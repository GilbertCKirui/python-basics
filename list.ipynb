{
 "cells": [
  {
   "cell_type": "code",
   "execution_count": null,
   "id": "bc3fb589-00c9-439f-9973-fe3ff5f2ba1d",
   "metadata": {},
   "outputs": [],
   "source": [
    "## List\n",
    "\n",
    "*A collection of items in a particular order\n",
    "* Can include strings, floats, integers and other datatypes\n",
    "* You can add anything, including unrelated items\n",
    "* Use square brackets\n",
    "**syntax**: ```[item_1, item_2, item_3, item_4]```\n"
   ]
  },
  {
   "cell_type": "code",
   "execution_count": 1,
   "id": "aa7eb574-9e01-4a0d-a79e-75e9e55a212a",
   "metadata": {},
   "outputs": [
    {
     "name": "stdout",
     "output_type": "stream",
     "text": [
      "['Mango', 'Banana', 'Orange', 'Apple']\n"
     ]
    }
   ],
   "source": [
    "# example\n",
    "fruits = [\"Mango\", \"Banana\", \"Orange\", \"Apple\"]\n",
    "print(fruits)"
   ]
  },
  {
   "cell_type": "code",
   "execution_count": null,
   "id": "82b080f2-bf5d-4179-9e58-7ca6ddbbc7b0",
   "metadata": {},
   "outputs": [],
   "source": [
    "* Index position start at [0]"
   ]
  },
  {
   "cell_type": "code",
   "execution_count": 2,
   "id": "b739eb89-9124-4a5c-9897-e0e0d06c1350",
   "metadata": {},
   "outputs": [
    {
     "name": "stdout",
     "output_type": "stream",
     "text": [
      "APPLE\n"
     ]
    }
   ],
   "source": [
    "# change case\n",
    "\n",
    "print(fruits[3].upper())"
   ]
  },
  {
   "cell_type": "code",
   "execution_count": 3,
   "id": "93f63aa5-f197-420f-b524-9e5ce5270a86",
   "metadata": {},
   "outputs": [
    {
     "name": "stdout",
     "output_type": "stream",
     "text": [
      "Apple\n"
     ]
    }
   ],
   "source": [
    "#using negative indexing\n",
    "# starts -1\n",
    "\n",
    "print (fruits[-1])"
   ]
  },
  {
   "cell_type": "code",
   "execution_count": 4,
   "id": "c4fe783d-d7ed-4e46-99c0-37e0ed4a19dd",
   "metadata": {},
   "outputs": [
    {
     "name": "stdout",
     "output_type": "stream",
     "text": [
      "Orange\n"
     ]
    }
   ],
   "source": [
    "print (fruits[-2])"
   ]
  },
  {
   "cell_type": "code",
   "execution_count": 6,
   "id": "71388d4d-d53b-4998-b8db-bbb2a51f7336",
   "metadata": {},
   "outputs": [
    {
     "name": "stdout",
     "output_type": "stream",
     "text": [
      "Gilbert likes Apple, especially ther green ones.\n"
     ]
    }
   ],
   "source": [
    "# using individual items in a list\n",
    "message = f\"Gilbert likes {fruits[-1]}, especially the green ones.\"\n",
    "\n",
    "print(message)"
   ]
  },
  {
   "cell_type": "code",
   "execution_count": 8,
   "id": "f572c997-8fa4-4bda-b113-ac16c58ecc4f",
   "metadata": {},
   "outputs": [
    {
     "name": "stdout",
     "output_type": "stream",
     "text": [
      "Alex likes Banana and Orange\n"
     ]
    }
   ],
   "source": [
    "message_2 = f\"Alex likes {fruits[1]} and {fruits[2]}\"\n",
    "\n",
    "print(message_2)"
   ]
  },
  {
   "cell_type": "code",
   "execution_count": 10,
   "id": "da993d11-9d34-4af2-8fd1-2912211a4e04",
   "metadata": {},
   "outputs": [
    {
     "name": "stdout",
     "output_type": "stream",
     "text": [
      "['Supreme', 'High Cort']\n"
     ]
    }
   ],
   "source": [
    "## Modifying\n",
    "courts = [\"Supreme\", \"High Cort\"]\n",
    "print(courts)"
   ]
  },
  {
   "cell_type": "code",
   "execution_count": 11,
   "id": "bfb12f30-ac10-4a2a-9405-7a65eadbcb68",
   "metadata": {},
   "outputs": [],
   "source": [
    "#modify"
   ]
  },
  {
   "cell_type": "code",
   "execution_count": 12,
   "id": "b5ff0deb-0936-4888-b05b-934b2f358cbf",
   "metadata": {},
   "outputs": [
    {
     "name": "stdout",
     "output_type": "stream",
     "text": [
      "['Supreme', 'High Court']\n"
     ]
    }
   ],
   "source": [
    "courts[1] = \"High Court\"\n",
    "print(courts)"
   ]
  },
  {
   "cell_type": "code",
   "execution_count": 14,
   "id": "1fbcc3cf-b556-4a97-9f06-8fcbf5e80d03",
   "metadata": {},
   "outputs": [
    {
     "name": "stdout",
     "output_type": "stream",
     "text": [
      "['Supreme', 'High Court', 'magistrate courts', 'magistrates courts']\n"
     ]
    }
   ],
   "source": [
    "# Adding items to a list\n",
    "#1. Adding elements to the end of a list. we add .append(item)\n",
    "\n",
    "courts.append(\"magistrates courts\")\n",
    "print(courts)"
   ]
  },
  {
   "cell_type": "code",
   "execution_count": 15,
   "id": "05f87328-7eeb-44de-b850-179cdf7f583b",
   "metadata": {},
   "outputs": [
    {
     "name": "stdout",
     "output_type": "stream",
     "text": [
      "['Mango', 'Banana', 'Orange', 'Apple', 'Paw Paw']\n"
     ]
    }
   ],
   "source": [
    "# example 2\n",
    "fruits.append(\"Paw Paw\")\n",
    "print(fruits)"
   ]
  },
  {
   "cell_type": "code",
   "execution_count": 16,
   "id": "48a10f4a-1612-456d-884d-2d723163def3",
   "metadata": {},
   "outputs": [
    {
     "name": "stdout",
     "output_type": "stream",
     "text": [
      "['Supreme', 'Court of Appeal', 'High Court', 'magistrate courts', 'magistrates courts']\n"
     ]
    }
   ],
   "source": [
    "#2. Insert an item into a list at specific position\n",
    "# syntax .insert(index, item)\n",
    "\n",
    "courts.insert(1, \"Court of Appeal\")\n",
    "print(courts)"
   ]
  },
  {
   "cell_type": "code",
   "execution_count": 17,
   "id": "218ddd43-9f89-4e49-b8f2-64a6afdd194b",
   "metadata": {},
   "outputs": [
    {
     "name": "stdout",
     "output_type": "stream",
     "text": [
      "<enumerate object at 0x7fb211d1f4c0>\n"
     ]
    }
   ],
   "source": [
    "#Display items in a list with their indexes\n",
    "# syntax enumarate\n",
    "\n",
    "print(enumerate(courts))"
   ]
  },
  {
   "cell_type": "code",
   "execution_count": 18,
   "id": "c6c9157b-0c16-4acb-a7fa-538a35167373",
   "metadata": {},
   "outputs": [
    {
     "data": {
      "text/plain": [
       "['Mango', 'Banana', 'Orange', 'Apple', 'Paw Paw']"
      ]
     },
     "execution_count": 18,
     "metadata": {},
     "output_type": "execute_result"
    }
   ],
   "source": [
    "# Removing items in the list\n",
    "# 1. Use .pop() to remove an item at the end of a list\n",
    "fruits"
   ]
  },
  {
   "cell_type": "code",
   "execution_count": 19,
   "id": "9c54467d-ea91-4577-9e34-d83579b5afc8",
   "metadata": {},
   "outputs": [
    {
     "data": {
      "text/plain": [
       "['Mango', 'Banana', 'Orange', 'Apple']"
      ]
     },
     "execution_count": 19,
     "metadata": {},
     "output_type": "execute_result"
    }
   ],
   "source": [
    "fruits.pop()\n",
    "fruits"
   ]
  },
  {
   "cell_type": "code",
   "execution_count": 20,
   "id": "eaab65a2-8231-4eaa-8642-61574f3e6512",
   "metadata": {},
   "outputs": [
    {
     "name": "stdout",
     "output_type": "stream",
     "text": [
      "['Banana', 'Orange', 'Apple']\n"
     ]
    }
   ],
   "source": [
    "# use .pop(index) to remove a particular position item\n",
    "fruits.pop(0)\n",
    "print(fruits)"
   ]
  },
  {
   "cell_type": "code",
   "execution_count": 28,
   "id": "45aea153-f146-4f5c-a0c4-a39d00a3a7e0",
   "metadata": {},
   "outputs": [
    {
     "name": "stdout",
     "output_type": "stream",
     "text": [
      "['Banana']\n"
     ]
    }
   ],
   "source": [
    "#3 use .remove(item_value) to remove item by value\n",
    "\n",
    "fruits.remove(\"Apple\")\n",
    "print(fruits)"
   ]
  },
  {
   "cell_type": "code",
   "execution_count": 29,
   "id": "45ac8c26-f3e2-4413-b3fb-be0ea93f803f",
   "metadata": {},
   "outputs": [
    {
     "data": {
      "text/plain": [
       "['Banana']"
      ]
     },
     "execution_count": 29,
     "metadata": {},
     "output_type": "execute_result"
    }
   ],
   "source": [
    "fruits"
   ]
  },
  {
   "cell_type": "code",
   "execution_count": 32,
   "id": "a675b6e0-0d57-4384-9c95-e23ae9b331c5",
   "metadata": {},
   "outputs": [
    {
     "name": "stdout",
     "output_type": "stream",
     "text": [
      "['Mango', 'Banana']\n"
     ]
    }
   ],
   "source": [
    "fruits.insert(0, \"Mango\")\n",
    "print(fruits)"
   ]
  },
  {
   "cell_type": "code",
   "execution_count": 33,
   "id": "5b09d458-68ae-4998-80c6-4eb74c9d33c8",
   "metadata": {},
   "outputs": [],
   "source": [
    "# Using Del statement to remove ab item\n",
    "# Use syntax del list_name[index]\n",
    "\n",
    "del fruits[1]"
   ]
  },
  {
   "cell_type": "code",
   "execution_count": 34,
   "id": "19e28d4d-f333-42a3-b821-55bf02126689",
   "metadata": {},
   "outputs": [
    {
     "name": "stdout",
     "output_type": "stream",
     "text": [
      "['Mango']\n"
     ]
    }
   ],
   "source": [
    "print(fruits)"
   ]
  },
  {
   "cell_type": "code",
   "execution_count": 2,
   "id": "74d5ebf7-b076-4242-89ec-458b8a9bdc1e",
   "metadata": {},
   "outputs": [
    {
     "name": "stdout",
     "output_type": "stream",
     "text": [
      "['Mango', ['Paw Paw', 'Oranges'], 'Guava']\n"
     ]
    }
   ],
   "source": [
    "fruits_2 = [\"Mango\", [\"Paw Paw\", \"Oranges\"], \"Guava\"]\n",
    "print(fruits_2)"
   ]
  },
  {
   "cell_type": "code",
   "execution_count": 10,
   "id": "16445b3a-f841-45d8-9f32-32e5444d1d2a",
   "metadata": {},
   "outputs": [
    {
     "name": "stdout",
     "output_type": "stream",
     "text": [
      "['Paw Paw', 'Oranges']\n"
     ]
    }
   ],
   "source": [
    "print(fruits_2[1])"
   ]
  },
  {
   "cell_type": "code",
   "execution_count": 14,
   "id": "1f5ba20d-673f-4ee0-8a58-f318bcebd5b1",
   "metadata": {},
   "outputs": [
    {
     "name": "stdout",
     "output_type": "stream",
     "text": [
      "ORANGES\n"
     ]
    }
   ],
   "source": [
    "print(fruits_2[1][1].upper())"
   ]
  },
  {
   "cell_type": "code",
   "execution_count": 15,
   "id": "c229cad0-9a21-40e4-97d1-f537f13a8de8",
   "metadata": {},
   "outputs": [
    {
     "name": "stdout",
     "output_type": "stream",
     "text": [
      "MANGO\n"
     ]
    }
   ],
   "source": [
    "print(fruits_2[0].upper())"
   ]
  },
  {
   "cell_type": "code",
   "execution_count": 16,
   "id": "766105ca-be29-4d08-a3e0-c885f38032cf",
   "metadata": {},
   "outputs": [
    {
     "name": "stdout",
     "output_type": "stream",
     "text": [
      "GUAVA\n"
     ]
    }
   ],
   "source": [
    "print(fruits_2[-1].upper())"
   ]
  },
  {
   "cell_type": "code",
   "execution_count": 17,
   "id": "934a0087-934a-4e0c-aa10-470eef1ee252",
   "metadata": {},
   "outputs": [],
   "source": [
    "noise_makers = [\"Anthony\", \"Kocheli\", \"Kirui\", \"Nayambane\"]\n"
   ]
  },
  {
   "cell_type": "code",
   "execution_count": 22,
   "id": "8ba07fa1-4810-4e1a-bd4f-27f5cdb521c3",
   "metadata": {},
   "outputs": [
    {
     "name": "stdout",
     "output_type": "stream",
     "text": [
      "present\n"
     ]
    }
   ],
   "source": [
    "#checking item in a list\n",
    "if \"Kirui\" in noise_makers:\n",
    "    print(\"present\")"
   ]
  },
  {
   "cell_type": "code",
   "execution_count": 46,
   "id": "dfa09bf1-ae47-4f27-8614-587b9fdf905a",
   "metadata": {},
   "outputs": [
    {
     "name": "stdout",
     "output_type": "stream",
     "text": [
      "['Anthony', 'Kocheli', 'Kirui', 'Nayambane', 'Linda']\n"
     ]
    }
   ],
   "source": [
    "# adding items not in the list\n",
    "if \"Linda\" in noise_makers:\n",
    "    print(\"present\")\n",
    "else: \n",
    "    (noise_makers.append(\"Linda\"))\n",
    "    print(noise_makers)"
   ]
  },
  {
   "cell_type": "code",
   "execution_count": 48,
   "id": "30572f1f-4dbb-420d-b55b-8a43b67e502f",
   "metadata": {},
   "outputs": [
    {
     "name": "stdout",
     "output_type": "stream",
     "text": [
      "List Fake\n"
     ]
    }
   ],
   "source": [
    "# checking if item NOT in the list\n",
    "if \"Yusuf\" not in noise_makers:\n",
    "    print(\"List Fake\")"
   ]
  },
  {
   "cell_type": "code",
   "execution_count": 58,
   "id": "eee0c7d2-60a2-4e52-8586-b75cfda9b2e3",
   "metadata": {},
   "outputs": [
    {
     "name": "stdout",
     "output_type": "stream",
     "text": [
      "List Fake\n",
      "['Yusuf', 'Anthony', 'Kocheli', 'Kirui', 'Nayambane', 'Linda']\n"
     ]
    }
   ],
   "source": [
    "if \"Yusuf\" not in noise_makers:\n",
    "    print(\"List Fake\")\n",
    "    \n",
    "noise_makers.insert(0, \"Yusuf\")\n",
    "print(noise_makers)"
   ]
  },
  {
   "cell_type": "code",
   "execution_count": 59,
   "id": "31cad701-c341-4897-b924-0cb3aa275a69",
   "metadata": {},
   "outputs": [
    {
     "name": "stdout",
     "output_type": "stream",
     "text": [
      "['Yusuf', 'Anthony', 'Kocheli', 'Kirui', 'Nayambane', 'Linda']\n"
     ]
    }
   ],
   "source": [
    "print(noise_makers)"
   ]
  },
  {
   "cell_type": "code",
   "execution_count": 60,
   "id": "be31b5d7-1173-49f8-a3cf-4b4172b5dfa8",
   "metadata": {},
   "outputs": [
    {
     "data": {
      "text/plain": [
       "6"
      ]
     },
     "execution_count": 60,
     "metadata": {},
     "output_type": "execute_result"
    }
   ],
   "source": [
    "# functions\n",
    "# size of a list\n",
    "len(noise_makers)"
   ]
  },
  {
   "cell_type": "code",
   "execution_count": null,
   "id": "f425228f-2025-4cd5-850d-720049edd95c",
   "metadata": {},
   "outputs": [],
   "source": [
    "numbers = [1,3,4,5, 7, 9, 4, 8, 2, 10]\n",
    "\n",
    "# sort to organize\n"
   ]
  }
 ],
 "metadata": {
  "kernelspec": {
   "display_name": "Python 3 (ipykernel)",
   "language": "python",
   "name": "python3"
  },
  "language_info": {
   "codemirror_mode": {
    "name": "ipython",
    "version": 3
   },
   "file_extension": ".py",
   "mimetype": "text/x-python",
   "name": "python",
   "nbconvert_exporter": "python",
   "pygments_lexer": "ipython3",
   "version": "3.10.9"
  }
 },
 "nbformat": 4,
 "nbformat_minor": 5
}
